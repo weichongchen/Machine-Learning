{
 "cells": [
  {
   "cell_type": "code",
   "execution_count": 1,
   "metadata": {},
   "outputs": [],
   "source": [
    "import numpy as np\n",
    "spambase = np.loadtxt('spambase.data', delimiter=',')\n",
    "X = spambase[:, :-1]\n",
    "y = spambase[:, -1].astype(int)\n",
    "num_sample = 2000"
   ]
  },
  {
   "cell_type": "code",
   "execution_count": 2,
   "metadata": {
    "collapsed": true
   },
   "outputs": [],
   "source": [
    "def shuffle(X, y, num_sample):\n",
    "    #Xy = np.hstack((X, y))\n",
    "    Xy = np.zeros((len(X),len(X[0,:])+1))\n",
    "    Xy[:,:-1] = X\n",
    "    Xy[:,-1] = y\n",
    "    np.random.shuffle(Xy)\n",
    "    X_training = Xy[0:num_sample,:-1]\n",
    "    X_test = Xy[num_sample:,:-1]\n",
    "    y_training = Xy[0:num_sample,-1]\n",
    "    y_test = Xy[num_sample:,-1]\n",
    "    return X_training, X_test, y_training, y_test"
   ]
  },
  {
   "cell_type": "code",
   "execution_count": 3,
   "metadata": {
    "collapsed": true
   },
   "outputs": [],
   "source": [
    "def quantize1(X_training, X_test):\n",
    "    medians = np.median(X_training, axis=0)\n",
    "    X_temp_training = np.zeros(len(X_training))\n",
    "    X_temp_test = np.zeros(len(X_test))\n",
    "    X_training_quant = np.zeros((np.shape(X_training)))\n",
    "    X_test_quant = np.zeros((np.shape(X_test)))\n",
    "    for i in range(len(X_training[0])):\n",
    "        # >= \n",
    "        X_temp_training[:] = X_training[:,i]\n",
    "        X_temp_training[X_training[:,i] >= medians[i]] = 1\n",
    "        X_temp_training[X_training[:,i] < medians[i]] = 0\n",
    "        X_training_quant[:,i] = X_temp_training\n",
    "\n",
    "        X_temp_test[:] = X_test[:,i]\n",
    "        X_temp_test[X_test[:,i] >= medians[i]] = 1\n",
    "        X_temp_test[X_test[:,i] < medians[i]] = 0\n",
    "        X_test_quant[:,i] = X_temp_test\n",
    "    return X_training_quant, X_test_quant"
   ]
  },
  {
   "cell_type": "code",
   "execution_count": 4,
   "metadata": {
    "collapsed": true
   },
   "outputs": [],
   "source": [
    "def quantize2(X_training, X_test):\n",
    "    medians = np.median(X_training, axis=0)\n",
    "    X_temp_training = np.zeros(len(X_training))\n",
    "    X_temp_test = np.zeros(len(X_test))\n",
    "    X_training_quant = np.zeros((np.shape(X_training)))\n",
    "    X_test_quant = np.zeros((np.shape(X_test)))\n",
    "    for i in range(len(X_training[0])):\n",
    "        # <=\n",
    "        X_temp_training[:] = X_training[:,i]\n",
    "        X_temp_training[X_training[:,i] > medians[i]] = 1\n",
    "        X_temp_training[X_training[:,i] <= medians[i]] = 0\n",
    "        X_training_quant[:,i] = X_temp_training\n",
    "\n",
    "        X_temp_test[:] = X_test[:,i]\n",
    "        X_temp_test[X_test[:,i] > medians[i]] = 1\n",
    "        X_temp_test[X_test[:,i] <= medians[i]] = 0\n",
    "        X_test_quant[:,i] = X_temp_test\n",
    "    return X_training_quant, X_test_quant"
   ]
  },
  {
   "cell_type": "code",
   "execution_count": 5,
   "metadata": {
    "collapsed": true
   },
   "outputs": [],
   "source": [
    "def training(X_training_quant, y_training, num_y):\n",
    "    P_y0 = sum(1-y_training) / num_y\n",
    "    P_y1 = sum(y_training) / num_y\n",
    "    P_xy0 = []\n",
    "    P_xy1 = []\n",
    "    for i in range(len(X_training_quant[0])):\n",
    "        P_xi0y0 = np.dot(1-X_training_quant[:,i], 1-y_training) / num_y\n",
    "        P_xi1y0 = np.dot(X_training_quant[:,i], 1-y_training) / num_y\n",
    "        P_xi0y1 = np.dot(1-X_training_quant[:,i], y_training) / num_y\n",
    "        P_xi1y1 = np.dot(X_training_quant[:,i], y_training) / num_y\n",
    "        P_temp = [P_xi0y0, P_xi1y0] / P_y0\n",
    "        P_xy0.append(P_temp)\n",
    "        P_temp = [P_xi0y1, P_xi1y1] / P_y1\n",
    "        P_xy1.append(P_temp)\n",
    "    return P_xy0, P_xy1"
   ]
  },
  {
   "cell_type": "code",
   "execution_count": 6,
   "metadata": {
    "collapsed": true
   },
   "outputs": [],
   "source": [
    "def testing(X_test_quant, y_test, num_y, P_xy0, P_xy1):\n",
    "    P_y0 = sum(1-y_test) / num_y\n",
    "    P_y1 = sum(y_test) / num_y\n",
    "    y_hat = []\n",
    "    for i in range(len(X_test_quant)):\n",
    "        P_y0x = P_y0\n",
    "        P_y1x = P_y1\n",
    "        for j in range(len(X_test_quant[0])):\n",
    "            P_y0x *= P_xy0[j][int(X_test_quant[i][j])]\n",
    "            P_y1x *= P_xy1[j][int(X_test_quant[i][j])]\n",
    "        y_hat.append(int(P_y1x >= P_y0x))\n",
    "    return y_hat"
   ]
  },
  {
   "cell_type": "code",
   "execution_count": 16,
   "metadata": {},
   "outputs": [],
   "source": [
    "test_error1 = []\n",
    "test_error2 = []\n",
    "for trial in range(100):\n",
    "    # shuffle the data\n",
    "    [X_training, X_test, y_training, y_test] = shuffle(X, y, num_sample)\n",
    "\n",
    "    # quantize the data\n",
    "    # >=\n",
    "    [X_training_quant1, X_test_quant1] = quantize1(X_training, X_test)\n",
    "    # <=\n",
    "    [X_training_quant2, X_test_quant2] = quantize2(X_training, X_test)\n",
    "\n",
    "    # Naive Bayes\n",
    "    # training\n",
    "    num_y = len(y_training)\n",
    "    [P_xy0_1, P_xy1_1] = training(X_training_quant1, y_training, num_y)\n",
    "    [P_xy0_2, P_xy1_2] = training(X_training_quant2, y_training, num_y)\n",
    "\n",
    "    # testing\n",
    "    y_hat1 = testing(X_test_quant1, y_test, len(y), P_xy0_1, P_xy1_1)\n",
    "    y_hat2 = testing(X_test_quant2, y_test, len(y), P_xy0_2, P_xy1_2)\n",
    "\n",
    "    test_error1.append(sum(abs(y_hat1 - y_test)) / len(y_test))\n",
    "    test_error2.append(sum(abs(y_hat2 - y_test)) / len(y_test))"
   ]
  },
  {
   "cell_type": "code",
   "execution_count": 17,
   "metadata": {},
   "outputs": [
    {
     "name": "stdout",
     "output_type": "stream",
     "text": [
      "Is '>=' median better than '<='?  False\n",
      "[0.24091503267973852, 0.11144175317185699]\n",
      "0.11144175317185699\n"
     ]
    }
   ],
   "source": [
    "avg_test_error1 = np.mean(test_error1)\n",
    "avg_test_error2 = np.mean(test_error2)\n",
    "print(\"Is '>=' median better than '<='? \", avg_test_error1<avg_test_error2)\n",
    "print([avg_test_error1, avg_test_error2])\n",
    "print(min(avg_test_error1, avg_test_error2))"
   ]
  },
  {
   "cell_type": "code",
   "execution_count": 18,
   "metadata": {},
   "outputs": [
    {
     "name": "stdout",
     "output_type": "stream",
     "text": [
      "0.3943675509419455\n"
     ]
    }
   ],
   "source": [
    "# sanity check\n",
    "test_error_scheck = []\n",
    "for trial in range(100):\n",
    "    # shuffle the data\n",
    "    [X_training, X_test, y_training, y_test] = shuffle(X, y, num_sample)\n",
    "    P_y0 = sum(1-y_training) / num_y\n",
    "    P_y1 = sum(y_training) / num_y\n",
    "    y_hat = [int(P_y1 >= P_y0)]*len(y_test)\n",
    "    test_error_scheck.append(abs(sum(y_hat - y_test) / len(y_test)))\n",
    "print(np.mean(test_error_scheck))"
   ]
  },
  {
   "cell_type": "code",
   "execution_count": null,
   "metadata": {
    "collapsed": true
   },
   "outputs": [],
   "source": []
  }
 ],
 "metadata": {
  "kernelspec": {
   "display_name": "Python 3",
   "language": "python",
   "name": "python3"
  },
  "language_info": {
   "codemirror_mode": {
    "name": "ipython",
    "version": 3
   },
   "file_extension": ".py",
   "mimetype": "text/x-python",
   "name": "python",
   "nbconvert_exporter": "python",
   "pygments_lexer": "ipython3",
   "version": "3.6.1"
  }
 },
 "nbformat": 4,
 "nbformat_minor": 2
}
