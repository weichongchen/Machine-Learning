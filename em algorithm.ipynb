{
 "cells": [
  {
   "cell_type": "code",
   "execution_count": 1,
   "metadata": {},
   "outputs": [],
   "source": [
    "import numpy as np\n",
    "import matplotlib.pyplot as plt"
   ]
  },
  {
   "cell_type": "code",
   "execution_count": 2,
   "metadata": {},
   "outputs": [],
   "source": [
    "# Problem 3.5"
   ]
  },
  {
   "cell_type": "code",
   "execution_count": 3,
   "metadata": {},
   "outputs": [],
   "source": [
    "d = 1\n",
    "n = 500\n",
    "k = 2\n",
    "pi = np.array([0.7, 0.3])\n",
    "w = np.array([-2, 1])\n",
    "b = np.array([0.5, -0.5])\n",
    "sigma = np.array([0.4, 0.3])\n",
    "X = np.random.uniform(0, 1, n)\n",
    "mu = 0.5#np.mean(X)\n",
    "#mu = mu * w + b"
   ]
  },
  {
   "cell_type": "code",
   "execution_count": 4,
   "metadata": {},
   "outputs": [],
   "source": [
    "y = np.zeros(n)\n",
    "for l in range(k):\n",
    "    for i in range(n):\n",
    "        y[i] += pi[l] * (np.random.normal(w[l]*X[i] + b[l], sigma[l], 1))"
   ]
  },
  {
   "cell_type": "code",
   "execution_count": 5,
   "metadata": {},
   "outputs": [],
   "source": [
    "def E_step(n, k, mu_hat, y, X, pi_hat, w_hat, b_hat, sigma_square_hat):\n",
    "    W_temp = np.zeros((n, k))\n",
    "    W = np.zeros((n, k))\n",
    "    for l in range(k):\n",
    "        for i in range(n):\n",
    "            W_temp[i][l] = pi_hat[l] * (1/(2*np.pi*(sigma_square_hat[l]))**0.5) * np.exp(-(y[i] - w_hat[:,l]@np.array([1, X[i]]))**2 / (2*(sigma_square_hat[l])))\n",
    "            #W_temp[i][l] = pi_hat[l] * (1/(2*np.pi*(sigma_square_hat[l]))**0.5) * np.exp(-(y[i] - mu_hat[l])**2 / (2*sigma_square_hat[l]))\n",
    "            \n",
    "    for i in range(n):\n",
    "        W[i] = W_temp[i] / sum(W_temp[i])\n",
    "    \n",
    "    return W"
   ]
  },
  {
   "cell_type": "code",
   "execution_count": 6,
   "metadata": {},
   "outputs": [],
   "source": [
    "def M_step(n, k, mu, y, X, pi_hat, w_hat, b_hat, sigma_hat, W):\n",
    "    \n",
    "    # calculate pi\n",
    "    for l in range(k):\n",
    "        pi_hat[l] = sum(W[:,l]) / n\n",
    "        \n",
    "    # calculate w\n",
    "    w_hat_temp = np.zeros((n, k))\n",
    "    for l in range(k):\n",
    "        w_hat_temp[:,l] = W[:,l] * y\n",
    "        w_hat[l, 0] = sum(w_hat_temp[:,l]) / sum(W[:,l] * (1 + X**2))\n",
    "    w_hat_temp = np.zeros((n, k))\n",
    "    for l in range(k):\n",
    "        w_hat_temp[:,l] = W[:,l] * y * X\n",
    "        w_hat[l, 1] = sum(w_hat_temp[:,l]) / sum(W[:,l] * (1 + X**2))\n",
    "    \n",
    "    '''# calculate b\n",
    "    b_hat_new = np.zeros(k)\n",
    "    b_hat_temp = np.zeros((n, k))\n",
    "    for l in range(k):\n",
    "        b_hat_temp[:,l] = W[:,l] * (X - w_hat[l]*mu)\n",
    "        b_hat_new[l] = sum(b_hat_temp[:,l]) / sum(W[:,l])\n",
    "\n",
    "    \n",
    "    mu_hat = np.zeros(k)\n",
    "    mu_hat_temp = np.zeros((n, k))\n",
    "    for l in range(k):\n",
    "        mu_hat_temp[:,l] = W[:,l] * y\n",
    "        mu_hat[l] = sum(mu_hat_temp[:,l]) / sum(W[:,l])\n",
    "    \n",
    "    w_hat = (mu_hat - b_hat)/mu\n",
    "    b_hat = mu_hat - w_hat*mu    '''\n",
    "        \n",
    "    # calculate sigma square\n",
    "    sigma_square_hat_temp = np.zeros((n, k))\n",
    "    mu_temp = np.zeros(n)\n",
    "    for l in range(k):\n",
    "        #sigma_square_hat_temp[:,l] = W[:,l] * ((X - w_hat_new[l]*mu - b_hat_new[l])**2)\n",
    "        for i in range(n):\n",
    "            mu_temp[i] = w_hat[:,l]@np.array([1, X[i]])\n",
    "        sigma_square_hat_temp[:,l] = W[:,l] * ((y - mu_temp)**2)\n",
    "        #sigma_square_hat_temp[:,l] = W[:,l] * ((y - mu_hat[l])**2)\n",
    "        sigma_square_hat[l] = sum(sigma_square_hat_temp[:,l]) / sum(W[:,l])\n",
    "    #return pi_hat, w_hat_new, b_hat_new, sigma_square_hat, mu_hat\n",
    "    return pi_hat, w_hat, b_hat, sigma_square_hat, mu_hat"
   ]
  },
  {
   "cell_type": "code",
   "execution_count": 7,
   "metadata": {},
   "outputs": [],
   "source": [
    "# main function\n",
    "\n",
    "# initializing parameters\n",
    "pi_hat = np.array([0.5, 0.5])\n",
    "w_hat = np.array([[0, 0], [1, -1]])\n",
    "b_hat = np.array([0, 0])\n",
    "sigma_square_hat = np.array([np.std(y), np.std(y)])**2\n",
    "log_like = []\n",
    "\n",
    "log_like_prev = -1000\n",
    "increase = 1\n",
    "mu_hat = w_hat * mu + b_hat\n",
    "\n",
    "while abs(increase) > 1e-04:\n",
    "    W = E_step(n, k, mu_hat, y, X, pi_hat, w_hat, b_hat, sigma_square_hat)\n",
    "    \n",
    "    J = 1\n",
    "    for i in range(n):\n",
    "        J_temp = 0\n",
    "        for l in range(k):\n",
    "            J_temp += pi[l] * (1/(2*np.pi*(sigma_square_hat[l]))**0.5) * np.exp(-(y[i] - w_hat[:,l]@np.array([1, X[i]]))**2 / (2*(sigma_square_hat[l])))\n",
    "            #J_temp += pi[l] * (1/(2*np.pi*(sigma_square_hat[l]))**0.5) * np.exp(-(y[i] - mu_hat[l])**2 / (2*(sigma_square_hat[l])))\n",
    "        J *= J_temp\n",
    "    \n",
    "    log_like.append(np.log(J))\n",
    "    increase = np.log(J) - log_like_prev\n",
    "    log_like_prev = np.log(J)\n",
    "    \n",
    "    [pi_hat, w_hat, b_hat, sigma_square_hat, mu_hat] = M_step(n, k, mu, y, X, pi_hat, w_hat, b_hat, sigma_square_hat, W)\n",
    "    "
   ]
  },
  {
   "cell_type": "code",
   "execution_count": 9,
   "metadata": {},
   "outputs": [
    {
     "data": {
      "image/png": "[encoded data removed]",
      "text/plain": [
       "<Figure size 432x288 with 1 Axes>"
      ]
     },
     "metadata": {
      "needs_background": "light"
     },
     "output_type": "display_data"
    }
   ],
   "source": [
    "plt.plot(log_like)\n",
    "plt.show()"
   ]
  },
  {
   "cell_type": "code",
   "execution_count": 10,
   "metadata": {},
   "outputs": [
    {
     "data": {
      "text/plain": [
       "[array([0.7, 0.3]), array([-2,  1]), array([ 0.5, -0.5]), array([0.4, 0.3])]"
      ]
     },
     "execution_count": 10,
     "metadata": {},
     "output_type": "execute_result"
    }
   ],
   "source": [
    "[pi, w, b, sigma]"
   ]
  },
  {
   "cell_type": "code",
   "execution_count": 11,
   "metadata": {},
   "outputs": [
    {
     "name": "stdout",
     "output_type": "stream",
     "text": [
      "pi_hat [0.19230996 0.80769004]\n",
      "w_hat [[0 0]\n",
      " [0 0]]\n",
      "b_hat [0 0]\n",
      "sigma_hat [0.52870652 0.52892601]\n",
      "mu_hat [[ 0.   0. ]\n",
      " [ 0.5 -0.5]]\n"
     ]
    }
   ],
   "source": [
    "[pi_hat, w_hat, b_hat, sigma_square_hat**0.5, mu_hat]\n",
    "\n",
    "print('pi_hat', pi_hat)\n",
    "print('w_hat', w_hat)\n",
    "print('b_hat', b_hat)\n",
    "print('sigma_hat', sigma_square_hat**0.5)\n",
    "print('mu_hat', mu_hat)"
   ]
  },
  {
   "cell_type": "code",
   "execution_count": 13,
   "metadata": {},
   "outputs": [
    {
     "data": {
      "image/png": "[encoded data removed]",
      "text/plain": [
       "<Figure size 432x288 with 1 Axes>"
      ]
     },
     "metadata": {
      "needs_background": "light"
     },
     "output_type": "display_data"
    }
   ],
   "source": [
    "plt.plot(X, y, 'o')\n",
    "xaxis = np.linspace(0,1,9)\n",
    "plt.plot(xaxis, w_hat[0][1]*xaxis + w_hat[0][0], color='r')\n",
    "plt.plot(xaxis, w_hat[1][1]*xaxis + w_hat[1][0], color='g')\n",
    "plt.show()"
   ]
  },
  {
   "cell_type": "code",
   "execution_count": null,
   "metadata": {},
   "outputs": [],
   "source": []
  },
  {
   "cell_type": "code",
   "execution_count": null,
   "metadata": {},
   "outputs": [],
   "source": []
  }
 ],
 "metadata": {
  "kernelspec": {
   "display_name": "Python 3",
   "language": "python",
   "name": "python3"
  },
  "language_info": {
   "codemirror_mode": {
    "name": "ipython",
    "version": 3
   },
   "file_extension": ".py",
   "mimetype": "text/x-python",
   "name": "python",
   "nbconvert_exporter": "python",
   "pygments_lexer": "ipython3",
   "version": "3.6.7"
  }
 },
 "nbformat": 4,
 "nbformat_minor": 2
}
