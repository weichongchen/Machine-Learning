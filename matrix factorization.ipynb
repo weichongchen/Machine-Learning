{
 "cells": [
  {
   "cell_type": "code",
   "execution_count": 60,
   "metadata": {},
   "outputs": [],
   "source": [
    "import numpy as np\n",
    "import matplotlib.pyplot as plt"
   ]
  },
  {
   "cell_type": "code",
   "execution_count": 61,
   "metadata": {},
   "outputs": [],
   "source": [
    "import csv\n",
    "import pandas as pd\n",
    "## reference:http://www.albertauyeung.com/post/python-matrix-factorization/hj\n",
    "DataFrameBase = pd.read_csv('C:/Users/weich/Google Drive/Rice University/3rd Semester/ELEC 578/HW7/ml-100k/u1.base',\n",
    "                         names=['user id', 'item id', 'rating', 'timestamp'], sep='\\t')\n",
    "\n",
    "DataFrameTest = pd.read_csv('C:/Users/weich/Google Drive/Rice University/3rd Semester/ELEC 578/HW7/ml-100k/u1.test',\n",
    "                         names=['user id', 'item id', 'rating', 'timestamp'], sep='\\t')"
   ]
  },
  {
   "cell_type": "code",
   "execution_count": 62,
   "metadata": {},
   "outputs": [],
   "source": [
    "num_user = 943\n",
    "num_item = 1682\n",
    "X_base = np.zeros((num_user, num_item))\n",
    "X_test = np.zeros((num_user, num_item))"
   ]
  },
  {
   "cell_type": "code",
   "execution_count": 63,
   "metadata": {},
   "outputs": [],
   "source": [
    "for i in range(len(DataFrameBase)):\n",
    "    X_base[DataFrameBase['user id'][i]-1][DataFrameBase['item id'][i]-1] = DataFrameBase['rating'][i]\n",
    "    \n",
    "for i in range(len(DataFrameTest)):\n",
    "    X_test[DataFrameTest['user id'][i]-1][DataFrameTest['item id'][i]-1] = DataFrameTest['rating'][i]"
   ]
  },
  {
   "cell_type": "code",
   "execution_count": 6,
   "metadata": {},
   "outputs": [
    {
     "data": {
      "text/plain": [
       "array([[5., 3., 4., ..., 0., 0., 0.],\n",
       "       [4., 0., 0., ..., 0., 0., 0.],\n",
       "       [0., 0., 0., ..., 0., 0., 0.],\n",
       "       ...,\n",
       "       [5., 0., 0., ..., 0., 0., 0.],\n",
       "       [0., 0., 0., ..., 0., 0., 0.],\n",
       "       [0., 5., 0., ..., 0., 0., 0.]])"
      ]
     },
     "execution_count": 6,
     "metadata": {},
     "output_type": "execute_result"
    }
   ],
   "source": [
    "X_base"
   ]
  },
  {
   "cell_type": "code",
   "execution_count": null,
   "metadata": {},
   "outputs": [],
   "source": []
  },
  {
   "cell_type": "code",
   "execution_count": 130,
   "metadata": {},
   "outputs": [],
   "source": [
    "class MatrixFactor():\n",
    "    \n",
    "    def __init__(self, X_train, k, alpha, iterations):\n",
    "        self.X_train = X_train\n",
    "        self.num_users, self.num_items = X_train.shape\n",
    "        self.k = k\n",
    "        self.alpha = alpha\n",
    "        self.iterations = iterations\n",
    "\n",
    "    def train(self):\n",
    "        self.U = np.random.normal(scale=1./self.k, size=(self.num_users, self.k))\n",
    "        self.V = np.random.normal(scale=1./self.k, size=(self.num_items, self.k))\n",
    "        \n",
    "        self.b_u = np.zeros(self.num_users)\n",
    "        self.b_t = np.zeros(self.num_items)\n",
    "        self.b = np.mean(self.X_train[np.where(self.X_train != 0)])\n",
    "\n",
    "        self.samples = [\n",
    "            (i, j, self.X_train[i, j])\n",
    "            for i in range(self.num_users)\n",
    "            for j in range(self.num_items)\n",
    "            if self.X_train[i, j] > 0\n",
    "        ]\n",
    "        \n",
    "        training_process = []\n",
    "        for i in range(self.iterations):\n",
    "            np.random.shuffle(self.samples)\n",
    "            self.SGM()\n",
    "            loss = self.loss()\n",
    "            training_process.append((i, loss))\n",
    "        \n",
    "        return training_process\n",
    "\n",
    "    def loss(self):\n",
    "        xs, ys = self.X_train.nonzero()\n",
    "        predicted = self.matrix()\n",
    "        error = 0\n",
    "        for x, y in zip(xs, ys):\n",
    "            if self.X_train[x, y] != 0:\n",
    "                error += pow(self.X_train[x, y] - predicted[x, y], 2)\n",
    "        return np.sqrt(error)\n",
    "\n",
    "    def SGM(self):\n",
    "        for i, j, y in self.samples:\n",
    "            prediction = self.get_rating(i, j)\n",
    "            l = (y - prediction)\n",
    "            \n",
    "            self.b_u[i] += self.alpha * l\n",
    "            self.b_t[j] += self.alpha * l\n",
    "            \n",
    "            self.U[i, :] += self.alpha * l * self.V[j, :]\n",
    "            self.V[j, :] += self.alpha * l * self.U[i, :]\n",
    "\n",
    "    def get_rating(self, i, j):\n",
    "        prediction = self.b + self.b_u[i] + self.b_t[j] + self.U[i, :].dot(self.V[j, :].T)\n",
    "        return prediction\n",
    "    \n",
    "    def matrix(self):\n",
    "        return mf.b + mf.b_u[:,np.newaxis] + mf.b_t[np.newaxis:,] + mf.U.dot(mf.V.T)"
   ]
  },
  {
   "cell_type": "code",
   "execution_count": 147,
   "metadata": {},
   "outputs": [
    {
     "name": "stdout",
     "output_type": "stream",
     "text": [
      "k:  1\n",
      "k:  21\n",
      "k:  41\n",
      "k:  61\n",
      "k:  81\n",
      "k:  101\n",
      "k:  121\n",
      "k:  141\n",
      "k:  161\n",
      "k:  181\n",
      "k:  201\n",
      "k:  221\n",
      "k:  241\n",
      "k:  261\n",
      "k:  281\n",
      "k:  301\n",
      "k:  321\n",
      "k:  341\n",
      "k:  361\n",
      "k:  381\n",
      "k:  401\n",
      "k:  421\n",
      "k:  441\n",
      "k:  461\n",
      "k:  481\n",
      "k:  501\n",
      "k:  521\n",
      "k:  541\n",
      "k:  561\n",
      "k:  581\n",
      "k:  601\n",
      "k:  621\n",
      "k:  641\n",
      "k:  661\n",
      "k:  681\n",
      "k:  701\n",
      "k:  721\n",
      "k:  741\n",
      "k:  761\n",
      "k:  781\n",
      "k:  801\n",
      "k:  821\n",
      "k:  841\n",
      "k:  861\n",
      "k:  881\n",
      "k:  901\n",
      "k:  921\n",
      "k:  941\n"
     ]
    }
   ],
   "source": [
    "loss_temp = np.zeros(min(num_user, num_item))\n",
    "for i in range(min(num_user, num_item)):\n",
    "    mf = MatrixFactor(X_base, k=i+1, alpha=0.01, iterations=20)\n",
    "    loss = mf.train()\n",
    "    if i%20==0:\n",
    "        print('k: ', i+1)\n",
    "    loss_temp[i] = loss[-1][1]"
   ]
  },
  {
   "cell_type": "code",
   "execution_count": 148,
   "metadata": {},
   "outputs": [
    {
     "data": {
      "image/png": "[encoded data removed]",
      "text/plain": [
       "<Figure size 432x288 with 1 Axes>"
      ]
     },
     "metadata": {
      "needs_background": "light"
     },
     "output_type": "display_data"
    }
   ],
   "source": [
    "plt.plot(loss_temp)\n",
    "plt.xlabel(\"k\")\n",
    "plt.ylabel(\"Loss\")\n",
    "plt.show()"
   ]
  },
  {
   "cell_type": "code",
   "execution_count": 155,
   "metadata": {},
   "outputs": [
    {
     "name": "stdout",
     "output_type": "stream",
     "text": [
      "k:  46\n"
     ]
    }
   ],
   "source": [
    "print('k: ', np.argmin(loss_temp)+1)"
   ]
  },
  {
   "cell_type": "code",
   "execution_count": 150,
   "metadata": {},
   "outputs": [
    {
     "name": "stdout",
     "output_type": "stream",
     "text": [
      "[iteration, loss]:  [25, 154.01673162936905]\n",
      "[iteration, loss]:  [50, 91.92494033373379]\n"
     ]
    }
   ],
   "source": [
    "mf = MatrixFactor(X_base, k=np.argmin(loss_temp)+1, alpha=0.01, iterations=50)\n",
    "loss = mf.train()"
   ]
  },
  {
   "cell_type": "code",
   "execution_count": 151,
   "metadata": {},
   "outputs": [
    {
     "data": {
      "image/png": "[encoded data removed]",
      "text/plain": [
       "<Figure size 432x288 with 1 Axes>"
      ]
     },
     "metadata": {
      "needs_background": "light"
     },
     "output_type": "display_data"
    }
   ],
   "source": [
    "x = [x for x, y in loss]\n",
    "y = [y for x, y in loss]\n",
    "plt.plot(x, y)\n",
    "plt.xlabel(\"Iterations\")\n",
    "plt.ylabel(\"Loss\")\n",
    "plt.show()"
   ]
  },
  {
   "cell_type": "code",
   "execution_count": 152,
   "metadata": {},
   "outputs": [
    {
     "name": "stdout",
     "output_type": "stream",
     "text": [
      "prediction accuracy (MSE):  9.797028778546268e-05\n"
     ]
    }
   ],
   "source": [
    "X_predict = mf.matrix()\n",
    "X_predict[X_test==0] = 0\n",
    "\n",
    "acc = np.linalg.norm(X_predict - X_test) / (num_user*num_item)\n",
    "print('prediction accuracy (MSE): ', acc)"
   ]
  },
  {
   "cell_type": "code",
   "execution_count": 159,
   "metadata": {},
   "outputs": [
    {
     "name": "stdout",
     "output_type": "stream",
     "text": [
      "[iteration, loss]:  [25, 181.64863510653004]\n",
      "[iteration, loss]:  [50, 153.79777389429117]\n"
     ]
    }
   ],
   "source": [
    "# test set training on k=20\n",
    "mf = MatrixFactor(X_base, k=20, alpha=0.01, iterations=50)\n",
    "loss = mf.train()"
   ]
  },
  {
   "cell_type": "code",
   "execution_count": 160,
   "metadata": {},
   "outputs": [
    {
     "name": "stdout",
     "output_type": "stream",
     "text": [
      "[iteration, loss]:  [25, 151.78350894891759]\n",
      "[iteration, loss]:  [50, 86.70767413942713]\n"
     ]
    }
   ],
   "source": [
    "# test set training on k=50\n",
    "mf = MatrixFactor(X_base, k=50, alpha=0.01, iterations=50)\n",
    "loss = mf.train()"
   ]
  },
  {
   "cell_type": "code",
   "execution_count": 156,
   "metadata": {},
   "outputs": [
    {
     "name": "stdout",
     "output_type": "stream",
     "text": [
      "[iteration, loss]:  [25, 148.81299714853253]\n",
      "[iteration, loss]:  [50, 48.50950871832002]\n"
     ]
    }
   ],
   "source": [
    "# test set training on k=100\n",
    "mf = MatrixFactor(X_base, k=100, alpha=0.01, iterations=50)\n",
    "loss = mf.train()"
   ]
  },
  {
   "cell_type": "code",
   "execution_count": 157,
   "metadata": {},
   "outputs": [
    {
     "name": "stdout",
     "output_type": "stream",
     "text": [
      "[iteration, loss]:  [25, 158.0019377442411]\n",
      "[iteration, loss]:  [50, 39.337055889734536]\n"
     ]
    }
   ],
   "source": [
    "# test set training on k=200\n",
    "mf = MatrixFactor(X_base, k=200, alpha=0.01, iterations=50)\n",
    "loss = mf.train()"
   ]
  },
  {
   "cell_type": "code",
   "execution_count": 164,
   "metadata": {},
   "outputs": [
    {
     "name": "stdout",
     "output_type": "stream",
     "text": [
      "[iteration, loss]:  [25, 159.10459421501375]\n",
      "[iteration, loss]:  [50, 39.33493373929054]\n"
     ]
    }
   ],
   "source": [
    "# test set training on k=210\n",
    "mf = MatrixFactor(X_base, k=210, alpha=0.01, iterations=50)\n",
    "loss = mf.train()"
   ]
  },
  {
   "cell_type": "code",
   "execution_count": 165,
   "metadata": {},
   "outputs": [
    {
     "data": {
      "image/png": "[encoded data removed]",
      "text/plain": [
       "<Figure size 432x288 with 1 Axes>"
      ]
     },
     "metadata": {
      "needs_background": "light"
     },
     "output_type": "display_data"
    }
   ],
   "source": [
    "x = [x for x, y in loss]\n",
    "y = [y for x, y in loss]\n",
    "plt.plot(x, y)\n",
    "plt.xlabel(\"Iterations\")\n",
    "plt.ylabel(\"Loss\")\n",
    "plt.show()"
   ]
  },
  {
   "cell_type": "code",
   "execution_count": 166,
   "metadata": {},
   "outputs": [
    {
     "name": "stdout",
     "output_type": "stream",
     "text": [
      "prediction accuracy (MSE):  8.726503731261758e-05\n"
     ]
    }
   ],
   "source": [
    "X_predict = mf.matrix()\n",
    "X_predict[X_test==0] = 0\n",
    "\n",
    "acc = np.linalg.norm(X_predict - X_test) / (num_user*num_item)\n",
    "print('prediction accuracy (MSE): ', acc)"
   ]
  },
  {
   "cell_type": "code",
   "execution_count": 163,
   "metadata": {},
   "outputs": [
    {
     "name": "stdout",
     "output_type": "stream",
     "text": [
      "[iteration, loss]:  [25, 159.9410897235963]\n",
      "[iteration, loss]:  [50, 39.37698362444992]\n"
     ]
    }
   ],
   "source": [
    "# test set training on k=220\n",
    "mf = MatrixFactor(X_base, k=220, alpha=0.01, iterations=50)\n",
    "loss = mf.train()"
   ]
  },
  {
   "cell_type": "code",
   "execution_count": 162,
   "metadata": {},
   "outputs": [
    {
     "name": "stdout",
     "output_type": "stream",
     "text": [
      "[iteration, loss]:  [25, 162.6205223341625]\n",
      "[iteration, loss]:  [50, 39.47122230960694]\n"
     ]
    }
   ],
   "source": [
    "# test set training on k=250\n",
    "mf = MatrixFactor(X_base, k=250, alpha=0.01, iterations=50)\n",
    "loss = mf.train()"
   ]
  },
  {
   "cell_type": "code",
   "execution_count": 161,
   "metadata": {},
   "outputs": [
    {
     "name": "stdout",
     "output_type": "stream",
     "text": [
      "[iteration, loss]:  [25, 166.0481260008579]\n",
      "[iteration, loss]:  [50, 39.908420985281055]\n"
     ]
    }
   ],
   "source": [
    "# test set training on k=300\n",
    "mf = MatrixFactor(X_base, k=300, alpha=0.01, iterations=50)\n",
    "loss = mf.train()"
   ]
  },
  {
   "cell_type": "code",
   "execution_count": 158,
   "metadata": {},
   "outputs": [
    {
     "name": "stdout",
     "output_type": "stream",
     "text": [
      "[iteration, loss]:  [25, 177.33400400866373]\n",
      "[iteration, loss]:  [50, 42.74075671531363]\n"
     ]
    }
   ],
   "source": [
    "# test set training on k=500\n",
    "mf = MatrixFactor(X_base, k=500, alpha=0.01, iterations=50)\n",
    "loss = mf.train()"
   ]
  },
  {
   "cell_type": "code",
   "execution_count": null,
   "metadata": {},
   "outputs": [],
   "source": []
  }
 ],
 "metadata": {
  "kernelspec": {
   "display_name": "Python 3",
   "language": "python",
   "name": "python3"
  },
  "language_info": {
   "codemirror_mode": {
    "name": "ipython",
    "version": 3
   },
   "file_extension": ".py",
   "mimetype": "text/x-python",
   "name": "python",
   "nbconvert_exporter": "python",
   "pygments_lexer": "ipython3",
   "version": "3.6.7"
  }
 },
 "nbformat": 4,
 "nbformat_minor": 2
}
