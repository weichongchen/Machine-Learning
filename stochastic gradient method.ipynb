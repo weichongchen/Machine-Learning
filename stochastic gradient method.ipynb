{
 "cells": [
  {
   "cell_type": "code",
   "execution_count": 1,
   "metadata": {},
   "outputs": [],
   "source": [
    "import numpy as np\n",
    "import matplotlib.pyplot as plt\n",
    "import csv\n",
    "# load feature variables and their names\n",
    "X = np.loadtxt(\"nuclear_x.csv\", delimiter=\",\", skiprows=1)\n",
    "with open(\"nuclear_x.csv\", \"r\") as f:\n",
    "    X_colnames = next(csv.reader(f))\n",
    "# load salaries\n",
    "y = np.loadtxt(\"nuclear_y.csv\", delimiter=\",\", skiprows=1)"
   ]
  },
  {
   "cell_type": "code",
   "execution_count": 2,
   "metadata": {},
   "outputs": [],
   "source": [
    "def GD(X, y, Lambda, theta):\n",
    "    n = len(X)\n",
    "    soft_margin = np.zeros(n)\n",
    "    gradient = np.zeros(len(X[0])+1)\n",
    "    b = theta[0]\n",
    "    w = theta[1:]\n",
    "    for i in range(len(X)):\n",
    "        soft_margin[i] = 1 - y[i] * (np.dot(w, X[i,:]) + b)\n",
    "        \n",
    "    soft_margin[soft_margin < 0] = 0\n",
    "    soft_margin[soft_margin > 0] = 1\n",
    "\n",
    "    gradient[0] = (-1/n) * sum(soft_margin*y)\n",
    "    gradient[1:] = np.array([sum(soft_margin*(1/n)*(-y*X[:,0] + Lambda*w[0])), sum(soft_margin*(1/n)*(-y*X[:,1] + Lambda*w[1]))])\n",
    "    \n",
    "    return gradient"
   ]
  },
  {
   "cell_type": "code",
   "execution_count": 3,
   "metadata": {},
   "outputs": [],
   "source": [
    "def checkObjective(X, y, Lambda, theta):\n",
    "    n = len(X)\n",
    "    Loss_i = np.zeros(n)\n",
    "    b = theta[0]\n",
    "    w = theta[1:]\n",
    "    for i in range(len(X)):\n",
    "        Loss_i[i] = (1/n) * max(0, 1 - y[i] * (np.dot(w, X[i,:]) + b))\n",
    "    Loss = sum(Loss_i) + (Lambda/2)*np.linalg.norm(theta[1:])\n",
    "    return Loss"
   ]
  },
  {
   "cell_type": "code",
   "execution_count": 4,
   "metadata": {},
   "outputs": [],
   "source": [
    "# Problem1-3 gradient decent\n",
    "#np.random.seed(0)\n",
    "theta_0_GD = np.random.rand(len(X[0])+1) # theta = [b w].T\n",
    "\n",
    "steps = 40\n",
    "Loss_GD = np.zeros(steps-1)\n",
    "Lambda = 0.001\n",
    "theta_GD = theta_0_GD\n",
    "for k in range(1,steps):\n",
    "    theta_GD = theta_GD - (100/k) * GD(X, y, Lambda, theta_GD) # theta_k+1 = theta_k - alpha_k * g(theta_k)\n",
    "    #print(theta)\n",
    "    Loss_GD[k-1] = checkObjective(X, y, Lambda, theta_GD)\n",
    "    #print(Loss)"
   ]
  },
  {
   "cell_type": "code",
   "execution_count": 5,
   "metadata": {},
   "outputs": [
    {
     "data": {
      "image/png": "[encoded data removed]",
      "text/plain": [
       "<Figure size 432x288 with 1 Axes>"
      ]
     },
     "metadata": {
      "needs_background": "light"
     },
     "output_type": "display_data"
    }
   ],
   "source": [
    "plt.plot(Loss_GD)\n",
    "plt.show()"
   ]
  },
  {
   "cell_type": "code",
   "execution_count": 18,
   "metadata": {},
   "outputs": [
    {
     "data": {
      "image/png": "[encoded data removed]",
      "text/plain": [
       "<Figure size 432x288 with 1 Axes>"
      ]
     },
     "metadata": {
      "needs_background": "light"
     },
     "output_type": "display_data"
    }
   ],
   "source": [
    "plt.scatter(X[:,0],X[:,1])\n",
    "slope = -theta_GD[1] / theta_GD[2]\n",
    "axes = plt.gca()\n",
    "x_vals = np.array(axes.get_xlim())\n",
    "y_vals = slope * x_vals + (-theta_GD[0]/theta_GD[2])\n",
    "plt.plot(x_vals, y_vals, '--', color='red')\n",
    "plt.show()"
   ]
  },
  {
   "cell_type": "code",
   "execution_count": 20,
   "metadata": {},
   "outputs": [
    {
     "data": {
      "text/plain": [
       "array([-1.08775537, -4.20154906, 20.65468971])"
      ]
     },
     "execution_count": 20,
     "metadata": {},
     "output_type": "execute_result"
    }
   ],
   "source": [
    "theta_GD"
   ]
  },
  {
   "cell_type": "code",
   "execution_count": 21,
   "metadata": {},
   "outputs": [
    {
     "data": {
      "text/plain": [
       "0.17706469002736333"
      ]
     },
     "execution_count": 21,
     "metadata": {},
     "output_type": "execute_result"
    }
   ],
   "source": [
    "Loss_GD[-1]"
   ]
  },
  {
   "cell_type": "code",
   "execution_count": 9,
   "metadata": {},
   "outputs": [],
   "source": [
    "def SGM(X, y, Lambda, theta):\n",
    "    n = len(X)\n",
    "    soft_margin = np.zeros(n)\n",
    "    gradient = np.zeros((len(X), len(X[0])+1))\n",
    "    b = theta[0]\n",
    "    w = theta[1:]\n",
    "    order = np.random.permutation(n)\n",
    "    for i in range(len(X)):\n",
    "        soft_margin[order[i]] = 1 - y[order[i]] * (np.dot(w, X[order[i],:]) + b)\n",
    "    soft_margin[soft_margin < 0] = 0\n",
    "    soft_margin[soft_margin > 0] = 1\n",
    "\n",
    "    gradient[:,0] = (-1/n) * soft_margin * y\n",
    "    gradient[:,1:] = np.array([soft_margin*(1/n)*(-y*X[:,0] + Lambda*w[0]), soft_margin*(1/n)*(-y*X[:,1] + Lambda*w[1])]).T\n",
    "    \n",
    "    return gradient"
   ]
  },
  {
   "cell_type": "code",
   "execution_count": 10,
   "metadata": {},
   "outputs": [
    {
     "name": "stdout",
     "output_type": "stream",
     "text": [
      "[k, i]:  [1, 4999]\n",
      "13.279524368150613\n",
      "[k, i]:  [1, 9999]\n",
      "26.807850824331823\n",
      "[k, i]:  [1, 14999]\n",
      "40.4911721614336\n",
      "[k, i]:  [2, 4999]\n",
      "43.97356389907819\n",
      "[k, i]:  [2, 9999]\n",
      "34.36788320413823\n",
      "[k, i]:  [2, 14999]\n",
      "24.936821510208464\n",
      "[k, i]:  [3, 4999]\n",
      "8.954290021813433\n",
      "[k, i]:  [3, 9999]\n",
      "2.659479570299297\n",
      "[k, i]:  [3, 14999]\n",
      "3.214858914877923\n",
      "[k, i]:  [4, 4999]\n",
      "5.028651374763038\n",
      "[k, i]:  [4, 9999]\n",
      "1.165575692847243\n",
      "[k, i]:  [4, 14999]\n",
      "2.8716606433199634\n",
      "[k, i]:  [5, 4999]\n",
      "3.2635207965341224\n",
      "[k, i]:  [5, 9999]\n",
      "0.32822319073847506\n",
      "[k, i]:  [5, 14999]\n",
      "3.5216439416711287\n",
      "[k, i]:  [6, 4999]\n",
      "4.339838850788406\n",
      "[k, i]:  [6, 9999]\n",
      "1.7669862461527068\n",
      "[k, i]:  [6, 14999]\n",
      "0.596227680674119\n",
      "[k, i]:  [7, 4999]\n",
      "0.6723870412813392\n",
      "[k, i]:  [7, 9999]\n",
      "1.4582160976975491\n",
      "[k, i]:  [7, 14999]\n",
      "3.8071830229844523\n",
      "[k, i]:  [8, 4999]\n",
      "4.295099744333947\n",
      "[k, i]:  [8, 9999]\n",
      "2.3647773927827025\n",
      "[k, i]:  [8, 14999]\n",
      "0.5912820301641355\n",
      "[k, i]:  [9, 4999]\n",
      "0.46615543154865424\n",
      "[k, i]:  [9, 9999]\n",
      "1.8004277705526812\n",
      "[k, i]:  [9, 14999]\n",
      "3.389676070713953\n",
      "[k, i]:  [10, 4999]\n",
      "3.457785547008994\n",
      "[k, i]:  [10, 9999]\n",
      "1.9235246843598939\n",
      "[k, i]:  [10, 14999]\n",
      "0.5873580241484467\n",
      "[k, i]:  [11, 4999]\n",
      "0.3842253172515912\n",
      "[k, i]:  [11, 9999]\n",
      "0.861884341124143\n",
      "[k, i]:  [11, 14999]\n",
      "1.7362774707033133\n",
      "[k, i]:  [12, 4999]\n",
      "1.4282384097465008\n",
      "[k, i]:  [12, 9999]\n",
      "0.4237245678652429\n",
      "[k, i]:  [12, 14999]\n",
      "0.6859705264788962\n",
      "[k, i]:  [13, 4999]\n",
      "0.6567857427613332\n",
      "[k, i]:  [13, 9999]\n",
      "0.47421926661101305\n",
      "[k, i]:  [13, 14999]\n",
      "1.4517668703693538\n",
      "[k, i]:  [14, 4999]\n",
      "1.6482531975261934\n",
      "[k, i]:  [14, 9999]\n",
      "0.7096476610393796\n",
      "[k, i]:  [14, 14999]\n",
      "0.40417922645165844\n",
      "[k, i]:  [15, 4999]\n",
      "0.44708696918973206\n",
      "[k, i]:  [15, 9999]\n",
      "0.5031216419862754\n",
      "[k, i]:  [15, 14999]\n",
      "1.0780394416955312\n",
      "[k, i]:  [16, 4999]\n",
      "1.013892019910262\n",
      "[k, i]:  [16, 9999]\n",
      "0.4382124836477374\n",
      "[k, i]:  [16, 14999]\n",
      "0.5172913237537052\n",
      "[k, i]:  [17, 4999]\n",
      "0.5421300497809156\n",
      "[k, i]:  [17, 9999]\n",
      "0.40633174758754753\n",
      "[k, i]:  [17, 14999]\n",
      "0.8390621395465658\n",
      "[k, i]:  [18, 4999]\n",
      "0.8560569109085975\n",
      "[k, i]:  [18, 9999]\n",
      "0.4164745971110191\n",
      "[k, i]:  [18, 14999]\n",
      "0.49108835117398164\n",
      "[k, i]:  [19, 4999]\n",
      "0.5338269991607183\n",
      "[k, i]:  [19, 9999]\n",
      "0.3676998596953023\n",
      "[k, i]:  [19, 14999]\n",
      "0.5893453438485156\n",
      "[k, i]:  [20, 4999]\n",
      "0.5740443034282295\n",
      "[k, i]:  [20, 9999]\n",
      "0.34101428393403743\n",
      "[k, i]:  [20, 14999]\n",
      "0.5089916532415247\n",
      "[k, i]:  [21, 4999]\n",
      "0.5188844514733386\n",
      "[k, i]:  [21, 9999]\n",
      "0.32062062782696704\n",
      "[k, i]:  [21, 14999]\n",
      "0.4424799440880291\n",
      "[k, i]:  [22, 4999]\n",
      "0.43314171694216363\n",
      "[k, i]:  [22, 9999]\n",
      "0.2939234621243925\n",
      "[k, i]:  [22, 14999]\n",
      "0.46759114772785393\n",
      "[k, i]:  [23, 4999]\n",
      "0.4727732413328101\n",
      "[k, i]:  [23, 9999]\n",
      "0.28437722461847337\n",
      "[k, i]:  [23, 14999]\n",
      "0.32656960833809257\n",
      "[k, i]:  [24, 4999]\n",
      "0.31380916111074536\n",
      "[k, i]:  [24, 9999]\n",
      "0.26613020771696994\n",
      "[k, i]:  [24, 14999]\n",
      "0.4433367917419133\n",
      "[k, i]:  [25, 4999]\n",
      "0.44224406597001503\n",
      "[k, i]:  [25, 9999]\n",
      "0.2645622267278133\n",
      "[k, i]:  [25, 14999]\n",
      "0.24726481095855712\n",
      "[k, i]:  [26, 4999]\n",
      "0.24073015567868047\n",
      "[k, i]:  [26, 9999]\n",
      "0.2510865479441863\n",
      "[k, i]:  [26, 14999]\n",
      "0.41596821012264884\n",
      "[k, i]:  [27, 4999]\n",
      "0.4157308437552489\n",
      "[k, i]:  [27, 9999]\n",
      "0.2543506194478844\n",
      "[k, i]:  [27, 14999]\n",
      "0.2047645528014371\n",
      "[k, i]:  [28, 4999]\n",
      "0.20513487957904813\n",
      "[k, i]:  [28, 9999]\n",
      "0.23284316994212392\n",
      "[k, i]:  [28, 14999]\n",
      "0.3650380297152208\n",
      "[k, i]:  [29, 4999]\n",
      "0.36886444502017757\n",
      "[k, i]:  [29, 9999]\n",
      "0.24331163657771515\n",
      "[k, i]:  [29, 14999]\n",
      "0.18757393300399186\n",
      "[k, i]:  [30, 4999]\n",
      "0.19177674728854976\n",
      "[k, i]:  [30, 9999]\n",
      "0.20283059735719802\n",
      "[k, i]:  [30, 14999]\n",
      "0.2711855009423415\n",
      "[k, i]:  [31, 4999]\n",
      "0.27717031266119313\n",
      "[k, i]:  [31, 9999]\n",
      "0.21608496152858161\n",
      "[k, i]:  [31, 14999]\n",
      "0.1845001107839231\n",
      "[k, i]:  [32, 4999]\n",
      "0.18593491524084577\n",
      "[k, i]:  [32, 9999]\n",
      "0.18405926340665654\n",
      "[k, i]:  [32, 14999]\n",
      "0.19700569535929385\n",
      "[k, i]:  [33, 4999]\n",
      "0.19591232290760038\n",
      "[k, i]:  [33, 9999]\n",
      "0.1846218740939257\n",
      "[k, i]:  [33, 14999]\n",
      "0.18366874949503395\n",
      "[k, i]:  [34, 4999]\n",
      "0.18568301643603796\n",
      "[k, i]:  [34, 9999]\n",
      "0.18284077042986313\n",
      "[k, i]:  [34, 14999]\n",
      "0.19029314920539947\n",
      "[k, i]:  [35, 4999]\n",
      "0.1897871178454248\n",
      "[k, i]:  [35, 9999]\n",
      "0.18341775251732098\n",
      "[k, i]:  [35, 14999]\n",
      "0.18331063887484317\n",
      "[k, i]:  [36, 4999]\n",
      "0.18492971390556306\n",
      "[k, i]:  [36, 9999]\n",
      "0.18260292957808041\n",
      "[k, i]:  [36, 14999]\n",
      "0.18622271632032997\n",
      "[k, i]:  [37, 4999]\n",
      "0.18616001630019124\n",
      "[k, i]:  [37, 9999]\n",
      "0.18291254323409156\n",
      "[k, i]:  [37, 14999]\n",
      "0.18300437887522852\n",
      "[k, i]:  [38, 4999]\n",
      "0.18405721771157896\n",
      "[k, i]:  [38, 9999]\n",
      "0.18257701436724272\n",
      "[k, i]:  [38, 14999]\n",
      "0.1840096686978361\n",
      "[k, i]:  [39, 4999]\n",
      "0.18393771603572798\n",
      "[k, i]:  [39, 9999]\n",
      "0.18267584797953823\n",
      "[k, i]:  [39, 14999]\n",
      "0.18275942888767868\n"
     ]
    }
   ],
   "source": [
    "# Problem1-3 stochastic gradient method\n",
    "#np.random.seed(0)\n",
    "theta_0 = np.random.rand(len(X[0])+1) # theta = [b w].T\n",
    "\n",
    "n = len(X)\n",
    "it = 40\n",
    "steps = it*n\n",
    "Loss = []#np.zeros(steps-1)\n",
    "Lambda = 0.001\n",
    "theta = theta_0\n",
    "for k in range(1,it):\n",
    "    #if (k-1) % n == 0:\n",
    "    J_temp = SGM(X, y, Lambda, theta)\n",
    "    for i in range(n):\n",
    "        theta = theta - (100/k) * J_temp[i,:] # theta_k+1 = theta_k - alpha_k * gi(theta_k)\n",
    "        #theta = theta - (100/((k-1)/n + 1)) * J_temp[i,:] # theta_k+1 = theta_k - alpha_k * gi(theta_k)\n",
    "        #print(theta)\n",
    "        #Loss[k-1+i] = checkObjective(X, y, Lambda, theta)\n",
    "        #print(k-1+i)\n",
    "        Loss.append(checkObjective(X, y, Lambda, theta))\n",
    "        #print(Loss)\n",
    "        if (i+1) % 5000 == 0:\n",
    "            print('[k, i]: ', [k, i])\n",
    "            print(Loss[-1])"
   ]
  },
  {
   "cell_type": "code",
   "execution_count": 11,
   "metadata": {},
   "outputs": [
    {
     "data": {
      "image/png": "[encoded data removed]",
      "text/plain": [
       "<Figure size 432x288 with 1 Axes>"
      ]
     },
     "metadata": {
      "needs_background": "light"
     },
     "output_type": "display_data"
    }
   ],
   "source": [
    "plt.plot(Loss)\n",
    "plt.show()"
   ]
  },
  {
   "cell_type": "code",
   "execution_count": 19,
   "metadata": {},
   "outputs": [
    {
     "data": {
      "image/png": "[encoded data removed]",
      "text/plain": [
       "<Figure size 432x288 with 1 Axes>"
      ]
     },
     "metadata": {
      "needs_background": "light"
     },
     "output_type": "display_data"
    }
   ],
   "source": [
    "plt.scatter(X[:,0],X[:,1])\n",
    "slope = -theta[1] / theta[2]\n",
    "axes = plt.gca()\n",
    "x_vals = np.array(axes.get_xlim())\n",
    "y_vals = slope * x_vals + (-theta[0]/theta[2])\n",
    "plt.plot(x_vals, y_vals, '--', color='red')\n",
    "plt.show()"
   ]
  },
  {
   "cell_type": "code",
   "execution_count": 13,
   "metadata": {},
   "outputs": [
    {
     "name": "stdout",
     "output_type": "stream",
     "text": [
      "[0.38204828657061907, 3.2769927100934244] [-0.003303984298747231, 7.531590858610133]\n"
     ]
    }
   ],
   "source": [
    "print([X[index_min,0], X[index_max,0]], [y1, y2])"
   ]
  },
  {
   "cell_type": "code",
   "execution_count": 14,
   "metadata": {},
   "outputs": [
    {
     "data": {
      "text/plain": [
       "array([-0.97315986, -3.62502033, 18.0781542 ])"
      ]
     },
     "execution_count": 14,
     "metadata": {},
     "output_type": "execute_result"
    }
   ],
   "source": [
    "theta"
   ]
  },
  {
   "cell_type": "code",
   "execution_count": 22,
   "metadata": {},
   "outputs": [
    {
     "data": {
      "text/plain": [
       "0.1846215997454534"
      ]
     },
     "execution_count": 22,
     "metadata": {},
     "output_type": "execute_result"
    }
   ],
   "source": [
    "Loss[-1]"
   ]
  },
  {
   "cell_type": "code",
   "execution_count": null,
   "metadata": {},
   "outputs": [],
   "source": []
  }
 ],
 "metadata": {
  "kernelspec": {
   "display_name": "Python 3",
   "language": "python",
   "name": "python3"
  },
  "language_info": {
   "codemirror_mode": {
    "name": "ipython",
    "version": 3
   },
   "file_extension": ".py",
   "mimetype": "text/x-python",
   "name": "python",
   "nbconvert_exporter": "python",
   "pygments_lexer": "ipython3",
   "version": "3.6.7"
  }
 },
 "nbformat": 4,
 "nbformat_minor": 2
}
